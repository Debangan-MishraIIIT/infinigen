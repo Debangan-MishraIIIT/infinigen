{
 "cells": [
  {
   "cell_type": "code",
   "execution_count": 2,
   "id": "b7daba7d",
   "metadata": {},
   "outputs": [],
   "source": [
    "import wandb"
   ]
  },
  {
   "cell_type": "code",
   "execution_count": 3,
   "id": "356ac4ff",
   "metadata": {},
   "outputs": [],
   "source": [
    "DATASET_PATH = \"/home/mila/a/ankur.sikarwar/scratch/infinigen/infinigen_debang/infinigen/outputs/csi_v5_0\""
   ]
  },
  {
   "cell_type": "code",
   "execution_count": null,
   "id": "04f4eeed",
   "metadata": {},
   "outputs": [
    {
     "name": "stderr",
     "output_type": "stream",
     "text": [
      "\u001b[34m\u001b[1mwandb\u001b[0m: Currently logged in as: \u001b[33mankursikarwar01041999\u001b[0m (\u001b[33mankursikarwar01041999-universit-de-montr-al\u001b[0m) to \u001b[32mhttps://api.wandb.ai\u001b[0m. Use \u001b[1m`wandb login --relogin`\u001b[0m to force relogin\n"
     ]
    },
    {
     "data": {
      "text/html": [
       "Tracking run with wandb version 0.21.1"
      ],
      "text/plain": [
       "<IPython.core.display.HTML object>"
      ]
     },
     "metadata": {},
     "output_type": "display_data"
    },
    {
     "data": {
      "text/html": [
       "Run data is saved locally in <code>/network/scratch/a/ankur.sikarwar/infinigen/infinigen_debang/infinigen/wandb/run-20250826_032634-76zipoxs</code>"
      ],
      "text/plain": [
       "<IPython.core.display.HTML object>"
      ]
     },
     "metadata": {},
     "output_type": "display_data"
    },
    {
     "data": {
      "text/html": [
       "Syncing run <strong><a href='https://wandb.ai/ankursikarwar01041999-universit-de-montr-al/infinigen_check/runs/76zipoxs' target=\"_blank\">dew</a></strong> to <a href='https://wandb.ai/ankursikarwar01041999-universit-de-montr-al/infinigen_check' target=\"_blank\">Weights & Biases</a> (<a href='https://wandb.me/developer-guide' target=\"_blank\">docs</a>)<br>"
      ],
      "text/plain": [
       "<IPython.core.display.HTML object>"
      ]
     },
     "metadata": {},
     "output_type": "display_data"
    },
    {
     "data": {
      "text/html": [
       " View project at <a href='https://wandb.ai/ankursikarwar01041999-universit-de-montr-al/infinigen_check' target=\"_blank\">https://wandb.ai/ankursikarwar01041999-universit-de-montr-al/infinigen_check</a>"
      ],
      "text/plain": [
       "<IPython.core.display.HTML object>"
      ]
     },
     "metadata": {},
     "output_type": "display_data"
    },
    {
     "data": {
      "text/html": [
       " View run at <a href='https://wandb.ai/ankursikarwar01041999-universit-de-montr-al/infinigen_check/runs/76zipoxs' target=\"_blank\">https://wandb.ai/ankursikarwar01041999-universit-de-montr-al/infinigen_check/runs/76zipoxs</a>"
      ],
      "text/plain": [
       "<IPython.core.display.HTML object>"
      ]
     },
     "metadata": {},
     "output_type": "display_data"
    },
    {
     "name": "stderr",
     "output_type": "stream",
     "text": [
      "Processing files:   0%|          | 0/246 [00:00<?, ?it/s]"
     ]
    },
    {
     "name": "stdout",
     "output_type": "stream",
     "text": [
      "2afde6eb finished\n"
     ]
    },
    {
     "name": "stderr",
     "output_type": "stream",
     "text": [
      "Processing files:   2%|▏         | 5/246 [00:00<00:46,  5.20it/s]"
     ]
    },
    {
     "name": "stdout",
     "output_type": "stream",
     "text": [
      "union_frac: 85.62%, intersect_frac: 7.39%\n",
      "12cb70b2 finished\n"
     ]
    },
    {
     "name": "stderr",
     "output_type": "stream",
     "text": [
      "Processing files:   2%|▏         | 6/246 [00:01<01:22,  2.91it/s]"
     ]
    },
    {
     "name": "stdout",
     "output_type": "stream",
     "text": [
      "union_frac: 66.28%, intersect_frac: 27.41%\n",
      "7d7c77ae finished\n"
     ]
    },
    {
     "name": "stderr",
     "output_type": "stream",
     "text": [
      "Processing files:   3%|▎         | 7/246 [00:02<01:47,  2.23it/s]"
     ]
    },
    {
     "name": "stdout",
     "output_type": "stream",
     "text": [
      "union_frac: 64.07%, intersect_frac: 19.29%\n",
      "73025fd9 finished\n"
     ]
    },
    {
     "name": "stderr",
     "output_type": "stream",
     "text": [
      "Processing files:   3%|▎         | 8/246 [00:03<02:10,  1.83it/s]"
     ]
    },
    {
     "name": "stdout",
     "output_type": "stream",
     "text": [
      "union_frac: 92.77%, intersect_frac: 22.92%\n",
      "5f5f62a2 finished\n"
     ]
    },
    {
     "name": "stderr",
     "output_type": "stream",
     "text": [
      "Processing files:   4%|▎         | 9/246 [00:04<02:27,  1.61it/s]"
     ]
    },
    {
     "name": "stdout",
     "output_type": "stream",
     "text": [
      "union_frac: 93.49%, intersect_frac: 26.33%\n",
      "1c96760f finished\n"
     ]
    },
    {
     "name": "stderr",
     "output_type": "stream",
     "text": [
      "Processing files:   4%|▍         | 10/246 [00:05<02:51,  1.38it/s]"
     ]
    },
    {
     "name": "stdout",
     "output_type": "stream",
     "text": [
      "union_frac: 68.97%, intersect_frac: 27.24%\n",
      "523a4b18 finished\n"
     ]
    },
    {
     "name": "stderr",
     "output_type": "stream",
     "text": [
      "Processing files:   4%|▍         | 11/246 [00:06<02:56,  1.33it/s]"
     ]
    },
    {
     "name": "stdout",
     "output_type": "stream",
     "text": [
      "union_frac: 87.64%, intersect_frac: 19.03%\n",
      "3a6e74dc finished\n"
     ]
    },
    {
     "name": "stderr",
     "output_type": "stream",
     "text": [
      "Processing files:   5%|▍         | 12/246 [00:06<02:59,  1.30it/s]"
     ]
    },
    {
     "name": "stdout",
     "output_type": "stream",
     "text": [
      "union_frac: 97.35%, intersect_frac: 19.39%\n",
      "907489c finished\n"
     ]
    },
    {
     "name": "stderr",
     "output_type": "stream",
     "text": [
      "Processing files:   5%|▌         | 13/246 [00:07<03:03,  1.27it/s]"
     ]
    },
    {
     "name": "stdout",
     "output_type": "stream",
     "text": [
      "union_frac: 88.49%, intersect_frac: 20.74%\n",
      "1611d35a finished\n"
     ]
    },
    {
     "name": "stderr",
     "output_type": "stream",
     "text": [
      "Processing files:   6%|▌         | 14/246 [00:08<03:04,  1.26it/s]"
     ]
    },
    {
     "name": "stdout",
     "output_type": "stream",
     "text": [
      "union_frac: 72.92%, intersect_frac: 13.12%\n",
      "d20286d finished\n"
     ]
    },
    {
     "name": "stderr",
     "output_type": "stream",
     "text": [
      "Processing files:   6%|▌         | 14/246 [00:09<02:35,  1.49it/s]"
     ]
    },
    {
     "name": "stdout",
     "output_type": "stream",
     "text": [
      "union_frac: 88.47%, intersect_frac: 14.70%\n"
     ]
    },
    {
     "name": "stderr",
     "output_type": "stream",
     "text": [
      "\n"
     ]
    }
   ],
   "source": [
    "import os\n",
    "from tqdm import tqdm\n",
    "from PIL import Image\n",
    "import matplotlib.pyplot as plt\n",
    "\n",
    "finish_logs = [\"FINISH_coarse\", \"FINISH_fineterrain\", \"FINISH_opengl_0_0_0048_0\", \n",
    "               \"FINISH_opengl_1_0_0048_0\", \"FINISH_populate\", \"FINISH_rendershort_0_0_0048_0\", \n",
    "               \"FINISH_rendershort_1_0_0048_0\", \"FINISH_savemesh_0_0_0048_0\", \"FINISH_savemesh_1_0_0048_0\"]\n",
    "\n",
    "wandb.init(name=\"v5_0\", project=\"infinigen_v5\")\n",
    "\n",
    "table = wandb.Table(columns=[\"Agent Views\", \"union_frac\", \"intersect_frac\"])\n",
    "\n",
    "# count = 0\n",
    "\n",
    "for file in tqdm(os.listdir(DATASET_PATH), desc=\"Processing files\"):\n",
    "    if os.path.isdir(os.path.join(DATASET_PATH, file)):\n",
    "        finished_flag = True\n",
    "        for log in finish_logs:\n",
    "            if log in os.listdir(os.path.join(DATASET_PATH, file, \"logs\")):\n",
    "                pass\n",
    "            else:\n",
    "                finished_flag = False\n",
    "            \n",
    "        if finished_flag:\n",
    "            agent_0_view_path = os.path.join(DATASET_PATH, file, \"frames\", \"Image\", \"camera_0\", \"Image_0_0_0048_0.png\")\n",
    "            agent_1_view_path = os.path.join(DATASET_PATH, file, \"frames\", \"Image\", \"camera_0\", \"Image_1_0_0048_0.png\")\n",
    "            agent_0_view = Image.open(agent_0_view_path)\n",
    "            agent_1_view = Image.open(agent_1_view_path)\n",
    "\n",
    "            print(f\"{file} finished\")\n",
    "\n",
    "            # Add title to each image\n",
    "            plt.figure(figsize=(10, 5))\n",
    "            plt.subplot(1, 2, 1)\n",
    "            plt.imshow(agent_0_view)\n",
    "            plt.axis(\"off\")\n",
    "            plt.title(\"Agent 0 View\")\n",
    "            plt.subplot(1, 2, 2)\n",
    "            plt.imshow(agent_1_view)\n",
    "            plt.axis(\"off\")\n",
    "            plt.title(\"Agent 1 View\")\n",
    "            plt.tight_layout()\n",
    "            plt.savefig(os.path.join(DATASET_PATH, file, \"agent_views.png\"))\n",
    "            plt.close()\n",
    "\n",
    "            # Look into the coarse.err file to get the union_frac and intersect_frac\n",
    "            with open(os.path.join(DATASET_PATH, file, \"logs\", \"coarse.err\"), \"r\") as f:\n",
    "                for line in f:\n",
    "                    if \"union fraction\" in line:\n",
    "                        union_frac = line.split(\"union fraction: \")[1].split(\" \")[0].strip()\n",
    "                    if \"intersection fraction\" in line:\n",
    "                        intersect_frac = line.split(\"intersection fraction: \")[1].split(\" \")[0].strip()\n",
    "            \n",
    "            print(f\"union_frac: {union_frac}, intersect_frac: {intersect_frac}\")\n",
    "\n",
    "            table.add_data(wandb.Image(os.path.join(DATASET_PATH, file, \"agent_views.png\")), union_frac, intersect_frac)\n",
    "\n",
    "            # count += 1\n",
    "\n",
    "    # if count > 10:\n",
    "    #     break\n",
    "\n",
    "wandb.log({\"Dataset Viz\": table})\n"
   ]
  },
  {
   "cell_type": "code",
   "execution_count": null,
   "id": "a862fe50",
   "metadata": {},
   "outputs": [],
   "source": []
  }
 ],
 "metadata": {
  "kernelspec": {
   "display_name": "infinigen",
   "language": "python",
   "name": "infinigen"
  },
  "language_info": {
   "codemirror_mode": {
    "name": "ipython",
    "version": 3
   },
   "file_extension": ".py",
   "mimetype": "text/x-python",
   "name": "python",
   "nbconvert_exporter": "python",
   "pygments_lexer": "ipython3",
   "version": "3.11.13"
  }
 },
 "nbformat": 4,
 "nbformat_minor": 5
}
